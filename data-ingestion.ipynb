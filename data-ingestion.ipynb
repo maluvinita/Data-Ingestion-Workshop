{
  "cells": [
    {
      "attachments": {},
      "cell_type": "markdown",
      "metadata": {
        "nteract": {
          "transient": {
            "deleting": false
          }
        }
      },
      "source": [
        "# Tutorial: Upload and download a blob \n",
        "This tutorial demonstrates\n",
        "1. Create a container in azure storage account \n",
        "2. How to upload and download a blob into/from a container"
      ]
    },
    {
      "attachments": {},
      "cell_type": "markdown",
      "metadata": {
        "tags": [
          "parameters"
        ]
      },
      "source": [
        "Create a blob service client from the connection string of storage"
      ]
    },
    {
      "cell_type": "code",
      "execution_count": null,
      "metadata": {
        "gather": {
          "logged": 1668158730524
        },
        "jupyter": {
          "outputs_hidden": false,
          "source_hidden": false
        },
        "nteract": {
          "transient": {
            "deleting": false
          }
        }
      },
      "outputs": [],
      "source": [
        "from azure.storage.blob import BlobServiceClient,  __version__\n",
        "connect_str = \"storage connection string\"\n",
        "blob_service_client = BlobServiceClient.from_connection_string(connect_str)\n",
        "\n",
        "print(\"Azure Blob Storage v\" + __version__ + \" - Python quickstart sample\")"
      ]
    },
    {
      "cell_type": "markdown",
      "metadata": {},
      "source": [
        "Create a container "
      ]
    },
    {
      "cell_type": "code",
      "execution_count": null,
      "metadata": {},
      "outputs": [],
      "source": [
        "# Create a unique name for the container\n",
        "container_name = \"ws-<your alias>\"\n",
        "\n",
        "# Create the container\n",
        "container_client = blob_service_client.create_container(container_name) # If the container with the same name already exists, a ResourceExistsError will be raised"
      ]
    },
    {
      "attachments": {},
      "cell_type": "markdown",
      "metadata": {},
      "source": [
        "A sample file is available in the current folder or you might create one. Name: ws_sample.txt \n",
        "\n",
        "## Upload a file into the container"
      ]
    },
    {
      "cell_type": "code",
      "execution_count": null,
      "metadata": {},
      "outputs": [],
      "source": [
        "try:\n",
        "    file_name = 'ws_sample.txt'\n",
        "    upload_file_path = os.path.join(os.getcwd(), file_name)\n",
        "    blob_client = blob_service_client.get_blob_client(container=container_name, blob=file_name)\n",
        "\n",
        "    print(\"\\nUploading to Azure Storage as blob:\\n\\t\" + file_name)\n",
        "\n",
        "    # Upload the file\n",
        "    with open(upload_file_path, \"rb\") as data:\n",
        "        blob_client.upload_blob(data, overwrite=True)\n",
        "except Exception as ex:\n",
        "    print('Exception:')\n",
        "    print(ex)"
      ]
    },
    {
      "cell_type": "markdown",
      "metadata": {},
      "source": [
        "List all available blobs in your container "
      ]
    },
    {
      "cell_type": "code",
      "execution_count": null,
      "metadata": {},
      "outputs": [],
      "source": [
        "try:\n",
        "    print(\"\\nListing blobs...\")\n",
        "    \n",
        "    # List the blobs in the container\n",
        "    blob_list = container_client.list_blobs()\n",
        "    for blob in blob_list:\n",
        "        print(\"\\t\" + blob.name)\n",
        "\n",
        "except Exception as ex:\n",
        "    print('Exception:')\n",
        "    print(ex)"
      ]
    },
    {
      "attachments": {},
      "cell_type": "markdown",
      "metadata": {
        "nteract": {
          "transient": {
            "deleting": false
          }
        }
      },
      "source": [
        "## Download the same file from the container "
      ]
    },
    {
      "cell_type": "code",
      "execution_count": null,
      "metadata": {
        "gather": {
          "logged": 1668156532762
        },
        "jupyter": {
          "outputs_hidden": false,
          "source_hidden": false
        },
        "nteract": {
          "transient": {
            "deleting": false
          }
        }
      },
      "outputs": [],
      "source": [
        "try:\n",
        "    blob_name = 'ws_sample.txt'\n",
        "    download_file_path = os.path.join(os.getcwd(), \"ws-<your alias>.txt\")\n",
        "    #download the file\n",
        "    with open(download_file_path, \"wb\") as download_file:\n",
        "        download_file.write(container_client.download_blob(blob_name).readall())\n",
        "        print( blob_name + \" downloaded\")\n",
        "except Exception as ex:\n",
        "    print('Exception:')\n",
        "    print(ex)"
      ]
    },
    {
      "attachments": {},
      "cell_type": "markdown",
      "metadata": {
        "nteract": {
          "transient": {
            "deleting": false
          }
        }
      },
      "source": [
        "# Referernces:\n",
        "1. https://learn.microsoft.com/en-us/azure/storage/blobs/storage-quickstart-blobs-python?tabs=managed-identity%2Croles-azure-portal%2Csign-in-azure-cli\n",
        "2. https://learn.microsoft.com/en-us/python/api/azure-storage-blob/azure.storage.blob?view=azure-python\n"
      ]
    }
  ],
  "metadata": {
    "kernel_info": {
      "name": "python38-azureml"
    },
    "kernelspec": {
      "display_name": "Python 3",
      "language": "python",
      "name": "python3"
    },
    "language_info": {
      "codemirror_mode": {
        "name": "ipython",
        "version": 3
      },
      "file_extension": ".py",
      "mimetype": "text/x-python",
      "name": "python",
      "nbconvert_exporter": "python",
      "pygments_lexer": "ipython3",
      "version": "3.8.10"
    },
    "microsoft": {
      "host": {
        "AzureML": {
          "notebookHasBeenCompleted": true
        }
      }
    },
    "nteract": {
      "version": "nteract-front-end@1.0.0"
    },
    "vscode": {
      "interpreter": {
        "hash": "e7370f93d1d0cde622a1f8e1c04877d8463912d04d973331ad4851f04de6915a"
      }
    }
  },
  "nbformat": 4,
  "nbformat_minor": 2
}
